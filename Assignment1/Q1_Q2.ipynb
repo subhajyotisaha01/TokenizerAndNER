{
 "cells": [
  {
   "cell_type": "code",
   "execution_count": null,
   "id": "d1b7f21f-bae1-425f-912b-7b28c2b229ec",
   "metadata": {
    "id": "d1b7f21f-bae1-425f-912b-7b28c2b229ec"
   },
   "outputs": [],
   "source": [
    "import numpy as np"
   ]
  },
  {
   "cell_type": "code",
   "execution_count": null,
   "id": "10daa4c4-cf90-4e1e-a65e-fcd8d0f3b307",
   "metadata": {
    "id": "10daa4c4-cf90-4e1e-a65e-fcd8d0f3b307"
   },
   "outputs": [],
   "source": [
    "set_o_consonants = {\n",
    "    'ক', 'খ', 'গ', 'ঘ', 'ঙ',\n",
    "    'চ', 'ছ', 'জ', 'ঝ', 'ঞ',\n",
    "    'ট', 'ঠ', 'ড', 'ঢ', 'ণ',\n",
    "    'ত', 'থ', 'দ', 'ধ', 'ন',\n",
    "    'প', 'ফ', 'ব', 'ভ', 'ম',\n",
    "    'য', 'য়', 'র', 'ল',\n",
    "    'শ', 'ষ', 'স', 'হ',\n",
    "    'ক়', 'খ়', 'গ়', 'জ়', 'ফ়'\n",
    "}\n",
    "# set_o_punctuations = {\n",
    "#     '!', '।', '\\n', ',', '-', '(', ')', '?', '.'\n",
    "# }\n",
    "set_o_vowels = {\n",
    "    'অ', 'আ', 'ই', 'ঈ', 'উ', 'ঊ', 'ঋ', 'ৠ', 'ঌ', 'ৡ', 'এ', 'ঐ', 'ও', 'ঔ',\n",
    "    'ং', 'ঁ', 'ঃ','ৎ', 'ু', 'ূ', 'ৃ', 'ে', 'ৈ', ' ো', ' ৌ', 'া', 'ি', 'ী'\n",
    "}\n",
    "set_o_independent_vowels = {'অ', 'আ', 'ই', 'ঈ', 'উ', 'ঊ', 'ঋ', 'ৠ', 'ঌ', 'ৡ', 'এ', 'ঐ', 'ও', 'ঔ'}\n",
    "set_o_dependent_vowels = { 'ং', 'ঁ', 'ঃ','ৎ', 'ু', 'ূ', 'ৃ', 'ে', 'ৈ', ' ো', ' ৌ', 'া', 'ি', 'ী'}"
   ]
  },
  {
   "cell_type": "markdown",
   "id": "29224a84-632d-4ce5-ab0f-07e1ac531f0e",
   "metadata": {
    "id": "29224a84-632d-4ce5-ab0f-07e1ac531f0e"
   },
   "source": [
    "# Question Number 1:"
   ]
  },
  {
   "cell_type": "code",
   "execution_count": null,
   "id": "5b03d4fa-fb81-43bc-b77b-5531ecf5de25",
   "metadata": {
    "id": "5b03d4fa-fb81-43bc-b77b-5531ecf5de25"
   },
   "outputs": [],
   "source": [
    "def unicode_correction(text):\n",
    "\n",
    "    set_o_consonants = {\n",
    "        'ক', 'খ', 'গ', 'ঘ', 'ঙ',\n",
    "        'চ', 'ছ', 'জ', 'ঝ', 'ঞ',\n",
    "        'ট', 'ঠ', 'ড', 'ঢ', 'ণ',\n",
    "        'ত', 'থ', 'দ', 'ধ', 'ন',\n",
    "        'প', 'ফ', 'ব', 'ভ', 'ম',\n",
    "        'য', 'য়', 'র', 'ল',\n",
    "        'শ', 'ষ', 'স', 'হ',\n",
    "        'ক়', 'খ়', 'গ়', 'জ়', 'ফ়'\n",
    "    }\n",
    "   \n",
    "    set_o_vowels = {\n",
    "        'অ', 'আ', 'ই', 'ঈ', 'উ', 'ঊ', 'ঋ', 'ৠ', 'ঌ', 'ৡ', 'এ', 'ঐ', 'ও', 'ঔ',\n",
    "        'ং', 'ঁ', 'ঃ','ৎ', 'ু', 'ূ', 'ৃ', 'ে', 'ৈ', ' ো', ' ৌ', 'া', 'ি', 'ী'\n",
    "    }\n",
    "    new_text = []\n",
    "    i = 0\n",
    "    while i < len(text):\n",
    "        if text[i] in set_o_consonants:\n",
    "            if i+1 < len(text) and text[i+1] == '্': # Checking for halant\n",
    "                new_text.append(text[i])\n",
    "                i += 1\n",
    "            else:\n",
    "                new_text.append(text[i])\n",
    "                if (i+1) < len(text) and text[i+1] in set_o_consonants:\n",
    "                    # Adding a 'অ' between two corresponding consonants, if halant is not present between them\n",
    "                    new_text.append('অ')\n",
    "        elif text[i] in set_o_vowels:\n",
    "            new_text.append(text[i])\n",
    "        elif text[i] == ' ':\n",
    "            new_text.append(text[i])\n",
    "        i += 1\n",
    "    return new_text"
   ]
  },
  {
   "cell_type": "code",
   "execution_count": null,
   "id": "87a8deeb-acdd-4213-a34b-6db215ca34e3",
   "metadata": {
    "id": "87a8deeb-acdd-4213-a34b-6db215ca34e3",
    "outputId": "e4559ad3-fdb2-4d0a-a45a-df856df85ae1"
   },
   "outputs": [
    {
     "name": "stdout",
     "output_type": "stream",
     "text": [
      "index.html  NLP_Assignment_1.ipynb\n"
     ]
    }
   ],
   "source": [
    "!ls"
   ]
  },
  {
   "cell_type": "code",
   "execution_count": null,
   "id": "952c417c-023e-43dc-a2ab-fa9575499c3d",
   "metadata": {
    "id": "952c417c-023e-43dc-a2ab-fa9575499c3d",
    "outputId": "1c6b08e4-dddf-46f5-97c7-51f6fe9e2605"
   },
   "outputs": [
    {
     "name": "stdout",
     "output_type": "stream",
     "text": [
      "--2024-02-16 20:39:21--  https://bangla.iitk.ac.in/assignment_cs689/cs689_100mbs/bn_100.txt\n",
      "Resolving bangla.iitk.ac.in (bangla.iitk.ac.in)... 172.27.21.33\n",
      "Connecting to bangla.iitk.ac.in (bangla.iitk.ac.in)|172.27.21.33|:443... connected.\n",
      "HTTP request sent, awaiting response... 200 OK\n",
      "Length: 104857600 (100M) [text/plain]\n",
      "Saving to: ‘bn_100.txt’\n",
      "\n",
      "bn_100.txt          100%[===================>] 100.00M   111MB/s    in 0.9s    \n",
      "\n",
      "2024-02-16 20:39:22 (111 MB/s) - ‘bn_100.txt’ saved [104857600/104857600]\n",
      "\n"
     ]
    }
   ],
   "source": [
    "!wget https://bangla.iitk.ac.in/assignment_cs689/cs689_100mbs/bn_100.txt"
   ]
  },
  {
   "cell_type": "code",
   "execution_count": null,
   "id": "014e7183-f1d8-49eb-9f79-58ec16d111e1",
   "metadata": {
    "id": "014e7183-f1d8-49eb-9f79-58ec16d111e1",
    "outputId": "765e11e8-cf9b-4448-8115-d8221405f7d0"
   },
   "outputs": [
    {
     "name": "stdout",
     "output_type": "stream",
     "text": [
      "bn_100.txt  index.html\tNLP_Assignment_1.ipynb\n"
     ]
    }
   ],
   "source": [
    "!ls"
   ]
  },
  {
   "cell_type": "code",
   "execution_count": null,
   "id": "cb1f0323-3edd-4c0f-bfdc-8b6b482f9889",
   "metadata": {
    "id": "cb1f0323-3edd-4c0f-bfdc-8b6b482f9889",
    "outputId": "34d7c635-3f24-43e3-99ff-daff7419738a"
   },
   "outputs": [
    {
     "name": "stdout",
     "output_type": "stream",
     "text": [
      "The Line before Unicode Correction: \n",
      "গ্রেপ্তারকৃতরা হলো, কুমিল্লা জেলার সদর কোতয়ালী মডেল থানার শাসনগাছা পালপাড়া ‘স’ মিলস এলাকার ইউনুস মিয়ার ছেলে মহাসীন (২৮), মৃত বাহার মিয়ার স্ত্রী ফাতেমা বেগম আলোনী (৪২)।\n",
      "\n",
      "['গ', 'র', 'ে', 'প', 'ত', 'া', 'র', 'অ', 'ক', 'ৃ', 'ত', 'অ', 'র', 'া', ' ', 'হ', 'অ', 'ল', ' ', 'ক', 'ু', 'ম', 'ি', 'ল', 'ল', 'া', ' ', 'জ', 'ে', 'ল', 'া', 'র', ' ', 'স', 'অ', 'দ', 'অ', 'র', ' ', 'ক', 'ত', 'া', 'ল', 'ী', ' ', 'ম', 'অ', 'ড', 'ে', 'ল', ' ', 'থ', 'া', 'ন', 'া', 'র', ' ', 'শ', 'া', 'স', 'অ', 'ন', 'অ', 'গ', 'া', 'ছ', 'া', ' ', 'প', 'া', 'ল', 'অ', 'প', 'া', 'া', ' ', 'স', ' ', 'ম', 'ি', 'ল', 'অ', 'স', ' ', 'এ', 'ল', 'া', 'ক', 'া', 'র', ' ', 'ই', 'উ', 'ন', 'ু', 'স', ' ', 'ম', 'ি', 'া', 'র', ' ', 'ছ', 'ে', 'ল', 'ে', ' ', 'ম', 'অ', 'হ', 'া', 'স', 'ী', 'ন', ' ', ' ', 'ম', 'ৃ', 'ত', ' ', 'ব', 'া', 'হ', 'া', 'র', ' ', 'ম', 'ি', 'া', 'র', ' ', 'স', 'ত', 'র', 'ী', ' ', 'ফ', 'া', 'ত', 'ে', 'ম', 'া', ' ', 'ব', 'ে', 'গ', 'অ', 'ম', ' ', 'আ', 'ল', 'ন', 'ী', ' ']\n"
     ]
    }
   ],
   "source": [
    "# Testing the Unicode Correction\n",
    "with open(\"bn_100.txt\", \"r\", errors = 'ignore') as f:\n",
    "    read_line = f.readline()\n",
    "    print('The Line before Unicode Correction: ')\n",
    "    print(read_line)\n",
    "    unicode_corrected_line = unicode_correction(read_line)\n",
    "    print(unicode_corrected_line)"
   ]
  },
  {
   "cell_type": "code",
   "execution_count": null,
   "id": "bd283d1f-4a58-4b40-be7e-2ec391c96bf0",
   "metadata": {
    "id": "bd283d1f-4a58-4b40-be7e-2ec391c96bf0",
    "outputId": "77547302-98e5-40c2-b176-3553d578aad9"
   },
   "outputs": [
    {
     "name": "stdout",
     "output_type": "stream",
     "text": [
      "339479\n"
     ]
    }
   ],
   "source": [
    "with open(\"bn_100.txt\", \"r\", errors = 'ignore') as f:\n",
    "    n_lines = len(f.readlines()) # Finding the number of lines\n",
    "print(n_lines)"
   ]
  },
  {
   "cell_type": "markdown",
   "id": "9d038037-e10a-4444-995d-b1fb01ec40d3",
   "metadata": {
    "id": "9d038037-e10a-4444-995d-b1fb01ec40d3"
   },
   "source": [
    "# Question Number 2"
   ]
  },
  {
   "cell_type": "code",
   "execution_count": null,
   "id": "1f2f170c-c173-4ba0-9b9d-1b75707506be",
   "metadata": {
    "id": "1f2f170c-c173-4ba0-9b9d-1b75707506be"
   },
   "outputs": [],
   "source": [
    "# Building unicode corrected corpus\n",
    "with open(\"bn_100.txt\", \"r\", errors = 'ignore') as f:\n",
    "    n_lines = len(f.readlines()) # Finding the number of lines\n",
    "\n",
    "def form_uicode_corrected_corpus(corpus_name = \"bn_100.txt\"):\n",
    "\n",
    "    unicode_corrected_corpus = []\n",
    "    with open(corpus_name, \"r\", errors = 'ignore') as f:\n",
    "        n_lines = len(f.readlines()) # Finding the number of lines\n",
    "\n",
    "    with open(corpus_name, \"r\", errors = 'ignore') as f:\n",
    "        for i in range(n_lines):\n",
    "            line = f.readline()\n",
    "            unicode_corrected_line = unicode_correction(line)\n",
    "            unicode_corrected_corpus.append(unicode_corrected_line)\n",
    "\n",
    "    return unicode_corrected_corpus\n",
    "\n",
    "def find_unigram_freq(corpus):\n",
    "    uni_dict = {}\n",
    "    for i in range(len(corpus)):\n",
    "        line = corpus[i]\n",
    "        for j in range(len(line)):\n",
    "            if line[j] != ' ':\n",
    "                if line[j] in uni_dict.keys():\n",
    "                    uni_dict[line[j]] = uni_dict[line[j]] + 1\n",
    "                else:\n",
    "                    uni_dict[line[j]] = 0\n",
    "\n",
    "    keys_list = list(uni_dict.keys())\n",
    "    values_list = list(uni_dict.values())\n",
    "    sorted_value_index = np.argsort(values_list)\n",
    "    sorted_char_dict = {keys_list[i]: values_list[i] for i in sorted_value_index}\n",
    "\n",
    "    return (keys_list, sorted_value_index)\n"
   ]
  },
  {
   "cell_type": "code",
   "execution_count": null,
   "id": "5a23706a-839d-42e7-a455-f64d73bcc0b1",
   "metadata": {
    "id": "5a23706a-839d-42e7-a455-f64d73bcc0b1",
    "outputId": "15a7b4de-dbbe-4a95-cc49-13c5763aa13d"
   },
   "outputs": [
    {
     "name": "stdout",
     "output_type": "stream",
     "text": [
      "The Top-20 char are: \n",
      "অ া ে র ি ন ক ব ত স ল ম প দ ু য হ জ ট শ "
     ]
    }
   ],
   "source": [
    "unicode_corrected_corpus = form_uicode_corrected_corpus()\n",
    "( keys_list, sorted_value_index ) = find_unigram_freq(unicode_corrected_corpus)\n",
    "print('The Top-20 char are: ')\n",
    "for i in sorted_value_index[::-1][:20]:\n",
    "    print(keys_list[i], end = ' ')"
   ]
  },
  {
   "cell_type": "code",
   "execution_count": null,
   "id": "96089540-f563-4fa7-9e58-4c7e04e02a95",
   "metadata": {
    "id": "96089540-f563-4fa7-9e58-4c7e04e02a95"
   },
   "outputs": [],
   "source": [
    "# Splitting sentence into syllables\n",
    "def syllable_form_from_line(text):\n",
    "\n",
    "    syllable_list = []\n",
    "    i = 0\n",
    "\n",
    "    while i < len(text):\n",
    "        syllable = ''\n",
    "        if text[i] in set_o_independent_vowels:\n",
    "            syllable = syllable + text[i]\n",
    "        elif text[i] in set_o_consonants:\n",
    "            syllable = syllable + text[i]\n",
    "            if (i+1) < len(text) and text[i+1] != ' ' and text[i+1] != '':\n",
    "                if text[i+1] in set_o_consonants or text[i+1] == 'অ':\n",
    "                    syllable = syllable +text[i+1]\n",
    "                    i = i + 1\n",
    "        i = i + 1\n",
    "        while i < len(text) and text[i] in set_o_dependent_vowels:\n",
    "            syllable = syllable + text[i]\n",
    "            i = i + 1\n",
    "        if syllable != '':\n",
    "            syllable_list.append(syllable)\n",
    "\n",
    "    return syllable_list\n",
    "\n",
    "def syllable_form_from_whole_corpus(unicode_corrected_corpus):\n",
    "    \"\"\"\n",
    "    Args: A List of List of Unicode corrected Chars corresponding to each sentence, words are separated by ' '\n",
    "    \"\"\"\n",
    "    syllable_corpus = []\n",
    "    for i in range(len(unicode_corrected_corpus)):\n",
    "        syllable_corpus.append(syllable_form_from_line(unicode_corrected_corpus[i]))\n",
    "    return syllable_corpus\n"
   ]
  },
  {
   "cell_type": "code",
   "execution_count": null,
   "id": "47c19d0f-9814-429c-bd4d-5138003a0a5c",
   "metadata": {
    "id": "47c19d0f-9814-429c-bd4d-5138003a0a5c",
    "outputId": "6e8e4930-585f-4c8a-d730-31b85c8d0ab9"
   },
   "outputs": [
    {
     "name": "stdout",
     "output_type": "stream",
     "text": [
      "The top 20 Frequency Syllable:\n",
      "র অ ন কঅ ই এ আ সঅ রঅ রে বঅ রা পঅ লে না কা কে মঅ ল বা "
     ]
    }
   ],
   "source": [
    "syllable_corpus = syllable_form_from_whole_corpus( unicode_corrected_corpus )\n",
    "( keys_list, sorted_value_index ) = find_unigram_freq(syllable_corpus)\n",
    "print('The top 20 Frequency Syllable:')\n",
    "for i in sorted_value_index[::-1][:20]:\n",
    "    print(keys_list[i], end = ' ')"
   ]
  },
  {
   "cell_type": "code",
   "execution_count": null,
   "id": "76811a62-0bb3-48c3-a14d-a271887df099",
   "metadata": {
    "id": "76811a62-0bb3-48c3-a14d-a271887df099"
   },
   "outputs": [],
   "source": [
    "def form_bigram_freq(corpus):\n",
    "    bigram_dict = {}\n",
    "    for i in range(len(corpus)):\n",
    "        line = corpus[i]\n",
    "        for j in range(len(line) - 1):\n",
    "            if line[j] != ' ' and line[j+1] != ' ':\n",
    "                if (line[j], line[j+1]) in bigram_dict.keys():\n",
    "                    bigram_dict[(line[j], line[j+1])] = bigram_dict[(line[j], line[j+1])] + 1\n",
    "                else:\n",
    "                    bigram_dict[(line[j], line[j+1])] = 0\n",
    "\n",
    "    keys_list = list(bigram_dict.keys())\n",
    "    values_list = list(bigram_dict.values())\n",
    "    sorted_value_index = np.argsort(values_list)\n",
    "    sorted_char_dict = {keys_list[i]: values_list[i] for i in sorted_value_index}\n",
    "\n",
    "    return (keys_list, sorted_value_index)\n"
   ]
  },
  {
   "cell_type": "code",
   "execution_count": null,
   "id": "8a6174f0-6c70-4cf5-9062-a4b6c54895a4",
   "metadata": {
    "id": "8a6174f0-6c70-4cf5-9062-a4b6c54895a4",
    "outputId": "27292fc5-bf1b-4f70-bb43-b676c303ae96"
   },
   "outputs": [
    {
     "name": "stdout",
     "output_type": "stream",
     "text": [
      "The Top-20 Bi-gram char are: \n",
      "('অ', 'র') ('া', 'র') ('অ', 'ন') ('ে', 'র') ('ক', 'অ') ('র', 'অ') ('া', 'ন') ('স', 'অ') ('র', 'ে') ('ব', 'অ') ('অ', 'ত') ('র', 'া') ('অ', 'ল') ('ব', 'া') ('অ', 'ব') ('অ', 'ক') ('প', 'অ') ('ম', 'অ') ('ক', 'া') ('অ', 'ম') "
     ]
    }
   ],
   "source": [
    "( keys_list, sorted_value_index ) = form_bigram_freq(unicode_corrected_corpus)\n",
    "print('The Top-20 Bi-gram char are: ')\n",
    "for i in sorted_value_index[::-1][:20]:\n",
    "    print(keys_list[i], end = ' ')"
   ]
  },
  {
   "cell_type": "code",
   "execution_count": null,
   "id": "6fa6057e-667a-4858-abc0-b2d3db422a53",
   "metadata": {
    "id": "6fa6057e-667a-4858-abc0-b2d3db422a53",
    "outputId": "42579cc7-635d-4cd3-a93f-22f3ac8245a0"
   },
   "outputs": [
    {
     "name": "stdout",
     "output_type": "stream",
     "text": [
      "The top 20 Frequency Syllable:\n",
      "('অ', 'বঅ') ('র', 'এ') ('র', 'কঅ') ('অ', 'তি') ('এ', 'ই') ('ছে', 'ন') ('বঅ', 'লে') ('থে', 'কে') ('র', 'আ') ('বা', 'র') ('কঅ', 'রা') ('এ', 'কঅ') ('লে', 'ন') ('রে', 'র') ('কঅ', 'রঅ') ('র', 'সঅ') ('নে', 'র') ('দে', 'র') ('কঅ', 'রে') ('পর', 'অ') "
     ]
    }
   ],
   "source": [
    "( keys_list, sorted_value_index ) = form_bigram_freq(syllable_corpus)\n",
    "print('The top 20 Frequency Syllable:')\n",
    "for i in sorted_value_index[::-1][:20]:\n",
    "    print(keys_list[i], end = ' ')"
   ]
  }
 ],
 "metadata": {
  "colab": {
   "provenance": []
  },
  "kernelspec": {
   "display_name": "Python 3 (ipykernel)",
   "language": "python",
   "name": "python3"
  },
  "language_info": {
   "codemirror_mode": {
    "name": "ipython",
    "version": 3
   },
   "file_extension": ".py",
   "mimetype": "text/x-python",
   "name": "python",
   "nbconvert_exporter": "python",
   "pygments_lexer": "ipython3",
   "version": "3.9.18"
  }
 },
 "nbformat": 4,
 "nbformat_minor": 5
}
