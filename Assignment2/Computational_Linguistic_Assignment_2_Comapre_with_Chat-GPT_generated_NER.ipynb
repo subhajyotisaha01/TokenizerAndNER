{
 "cells": [
  {
   "cell_type": "code",
   "execution_count": 16,
   "id": "a492ad0c",
   "metadata": {},
   "outputs": [],
   "source": [
    "from datasets import load_metric"
   ]
  },
  {
   "cell_type": "code",
   "execution_count": 14,
   "id": "a5b51041",
   "metadata": {},
   "outputs": [],
   "source": [
    "def form_corpus_label_from_manual_anno(text):\n",
    "    \"\"\"\n",
    "    Modify the annotated label, such that model can use it as Tags\n",
    "    \"\"\"\n",
    "    text_1 = text.split(' ')\n",
    "    new_text = []\n",
    "    new_id = []\n",
    "    for word in text_1:\n",
    "        if word == '[' or word == ']' or word == ',' or word == '\"' or word == '\\n' or word == ' ' or word == '':\n",
    "            pass\n",
    "        else:\n",
    "            n_w = ''\n",
    "            for i in word:\n",
    "                if i == '[' or i == ']' or i == ',' or i == '\"' or i == '\\n' or i == '\\'':\n",
    "                    pass\n",
    "                else:\n",
    "                    n_w = n_w + i\n",
    "            if n_w != '':\n",
    "                new_text.append(n_w)\n",
    "    return ( new_text)\n",
    "\n",
    "\n",
    "i = 0\n",
    "text_corpus = {'words':[],\n",
    "              'ner' : []}\n",
    "with open(\"annotated_text.txt\", 'r') as f:\n",
    "    for line in f.readlines():\n",
    "        if i % 3 == 0:\n",
    "            text = line\n",
    "            text_1 = text.split(\" \")[1:]\n",
    "            if text_1[-1] == '\\n':\n",
    "                text_1 = text_1[0:-1]\n",
    "            text_corpus['words'].append(text_1)\n",
    "        elif i % 3 == 1:\n",
    "            label = line\n",
    "            new_label  = form_corpus_label_from_manual_anno(label)\n",
    "            text_corpus['ner'].append(new_label)\n",
    "        i = i + 1"
   ]
  },
  {
   "cell_type": "code",
   "execution_count": 15,
   "id": "1a3fcdfe",
   "metadata": {},
   "outputs": [],
   "source": [
    "# CHat-GPT generated NER Tags from the corpus\n",
    "chat_gpt_generated_ner_tags = [\n",
    "[ \"B-MISC\", \"I-MISC\", \"I-MISC\", \"O\", \"O\", \"O\", \"O\",\"O\", \"O\", \"O\", \"O\"],\n",
    "\n",
    "[\"O\", \"O\", \"O\", \"O\", \"O\", \"O\", \"O\", \"O\", \"O\", \"O\", \"O\", \"O\" ], \n",
    "\n",
    "[\"O\", \"O\", \"O\", \"O\", \"O\", \"O\", \"O\", \"O\", \"O\", \"O\", \"O\"], \n",
    "\n",
    "[\"B-PER\", \"I-PER\", \"I-PER\", \"O\", \"B-PER\", \"I-PER\", \"O\", \"B-PER\", \"I-PER\", \"O\", \"O\", \"O\", \"O\"],\n",
    "\n",
    "[\"B-PER\", \"O\", \"O\", \"O\", \"O\", \"O\", \"O\", \"O\", \"O\", \"O\", \"O\", \"O\", \"O\", \"O\", \"B-PER\", \"O\", \"O\", \"O\", \"O\", \"O\", \"O\", \"O\", \"O\"] ,\n",
    "\n",
    "[\"O\", \"O\", \"B-PER\", \"I-PER\", \"O\", \"O\", \"O\", \"O\", \"O\", \"O\", \"O\"], \n",
    "\n",
    "[\"B-PER\", \"O\", \"O\", \"O\", \"O\", \"O\", \"O\", \"O\", \"O\", \"O\"], \n",
    "\n",
    "[\"O\", \"O\", \"B-LOC\", \"I-LOC\", \"O\", \"B-LOC\", \"O\", \"O\", \"O\", \"O\", \"B-PER\", \"I-PER\", \"I-PER\", \"O\", \"O\", \"O\", \"O\", \"O\", \"O\"] ,\n",
    "\n",
    "[\"O\", \"O\", \"B-PER\", \"I-PER\", \"I-PER\", \"O\", \"O\", \"O\", \"O\", \"O\", \"O\", \"O\"] ,\n",
    "\n",
    "[\"O\", \"O\", \"B-PER\", \"O\", \"O\", \"O\", \"O\", \"O\", \"O\", \"O\", \"O\"] ,\n",
    "\n",
    "[\"O\", \"O\", \"O\", \"O\", \"O\", \"O\", \"O\", \"O\", \"O\", \"O\", \"O\", \"O\", \"O\", \"O\", \"O\", \"O\", \"O\", \"O\", \"O\"] ,\n",
    "\n",
    "[\"O\", \"O\", \"O\", \"O\", \"O\", \"O\", \"O\", \"O\", \"O\", \"O\", \"O\", \"O\", \"O\", \"O\", \"O\", \"O\", \"O\", \"O\", \"O\", \"O\", \"O\", \"O\", \"O\", \"O\", \"O\"] ,\n",
    "\n",
    "[\"O\", \"O\", \"O\", \"O\", \"B-PER\", \"O\", \"O\", \"O\", \"O\", \"O\", \"O\", \"O\"] ,\n",
    "\n",
    "[\"O\", \"O\", \"O\", \"O\", \"O\", \"O\", \"O\", \"O\", \"O\", \"O\", \"O\", \"O\", \"O\", \"O\"] ,\n",
    "\n",
    "[\"O\", \"O\", \"O\", \"O\", \"O\", \"O\", \"B-PER\", \"I-PER\", \"O\", \"O\", \"O\", \"O\", \"O\", \"O\", \"O\", \"O\"] ,\n",
    "\n",
    "[\"O\", \"O\", \"O\", \"O\", \"O\", \"O\", \"O\", \"O\", \"O\", \"O\", \"O\", \"O\", \"O\", \"O\"] ,\n",
    "\n",
    " [\"O\", \"O\", \"O\", \"O\", \"O\", \"O\", \"O\", \"O\", \"O\", \"O\", \"O\", \"O\", \"O\",  \"O\"] ,\n",
    "\n",
    "[\"O\", \"O\", \"O\", \"O\", \"O\", \"O\", \"O\", \"O\", \"O\", \"O\", \"O\", \"O\", \"O\", \"O\", \"O\", \"O\", \"O\", \"O\"] ,\n",
    "\n",
    "[\"O\", \"O\", \"MISC\", \"O\", \"O\", \"O\", \"O\", \"O\", \"O\", \"O\", \"O\", \"O\", \"O\", \"O\", \"O\", \"O\", \"O\"] ,\n",
    "\n",
    "[\"MISC\", \"MISC\", \"MISC\", \"MISC\", \"O\", \"O\", \"MISC\", \"MISC\", \"MISC\", \"MISC\"] ,\n",
    "\n",
    "[\"O\", \"O\", \"O\", \"O\", \"O\", \"O\", \"O\", \"O\", \"O\", \"O\", \"O\", \"O\", \"O\", \"O\", \"O\", \"B-ORG\",\"O\"] ,\n",
    "\n",
    "[\"O\", \"O\", \"O\", \"B-LOC\", \"I-LOC\", \"O\", \"O\", \"O\", \"O\",\"O\"] ,\n",
    "\n",
    "[\"O\", \"O\", \"O\", \"O\", \"O\", \"O\", \"O\", \"O\", \"O\", \"O\", \"O\", \"O\", \"O\", \"O\", \"O\", \"O\", \"O\", \"O\", \"O\", \"O\", \"O\", \"O\", \"O\", \"O\", \"O\", \"O\", \"O\", \"O\", \"O\", \"O\", \"O\", \"O\", \"O\", \"O\", \"O\", \"O\", \"O\" ], \n",
    "\n",
    "[\"O\", \"O\", \"O\",\"B-MISC\", \"B-ORG\", \"O\",\"B-MISC\", \"O\", \"O\", \"O\", \"O\", \"O\", \"O\", \"O\",\"O\", \"O\", \"O\", \"O\", \"O\", \"O\" ] ,\n",
    "\n",
    "[\"O\", \"O\", \"O\", \"O\", \"O\", \"O\", \"O\", \"O\", \"O\", \"O\", \"O\", \"O\", \"O\", \"O\", \"O\", \"O\", \"O\", \"O\"] \n",
    "    \n",
    "]"
   ]
  },
  {
   "cell_type": "code",
   "execution_count": 18,
   "id": "2a579823",
   "metadata": {},
   "outputs": [],
   "source": [
    "for i in range(len(text_corpus['ner'])):\n",
    "    (j, k) = (len(text_corpus['ner'][i]), len(chat_gpt_generated_ner_tags[i]))\n",
    "    if j > k:\n",
    "        for _ in range(j - k):\n",
    "            chat_gpt_generated_ner_tags[i].append(0)\n",
    "    elif j < k :\n",
    "        chat_gpt_generated_ner_tags[i] = chat_gpt_generated_ner_tags[i][0 : k - (k - j)]  "
   ]
  },
  {
   "cell_type": "code",
   "execution_count": 19,
   "id": "a0d5380a",
   "metadata": {},
   "outputs": [
    {
     "name": "stderr",
     "output_type": "stream",
     "text": [
      "/home/user/anaconda3/envs/env1/lib/python3.12/site-packages/datasets/load.py:756: FutureWarning: The repository for seqeval contains custom code which must be executed to correctly load the metric. You can inspect the repository content at https://raw.githubusercontent.com/huggingface/datasets/2.18.0/metrics/seqeval/seqeval.py\n",
      "You can avoid this message in future by passing the argument `trust_remote_code=True`.\n",
      "Passing `trust_remote_code=True` will be mandatory to load this metric from the next major release of `datasets`.\n",
      "  warnings.warn(\n",
      "/home/user/anaconda3/envs/env1/lib/python3.12/site-packages/seqeval/metrics/sequence_labeling.py:171: UserWarning: MISC seems not to be NE tag.\n",
      "  warnings.warn('{} seems not to be NE tag.'.format(chunk))\n",
      "/home/user/anaconda3/envs/env1/lib/python3.12/site-packages/seqeval/metrics/sequence_labeling.py:171: UserWarning: 0 seems not to be NE tag.\n",
      "  warnings.warn('{} seems not to be NE tag.'.format(chunk))\n",
      "/home/user/anaconda3/envs/env1/lib/python3.12/site-packages/seqeval/metrics/v1.py:57: UndefinedMetricWarning: Recall and F-score are ill-defined and being set to 0.0 in labels with no true samples. Use `zero_division` parameter to control this behavior.\n",
      "  _warn_prf(average, modifier, msg_start, len(result))\n"
     ]
    }
   ],
   "source": [
    "metric = load_metric(\"seqeval\")\n",
    "results = metric.compute(predictions=chat_gpt_generated_ner_tags, references=text_corpus['ner'])\n",
    "# Unpack nested dictionaries\n",
    "final_results = {}\n",
    "for key, value in results.items():\n",
    "    if isinstance(value, dict):\n",
    "        for n, v in value.items():\n",
    "            final_results[f\"{key}_{n}\"] = v\n",
    "    else:\n",
    "        final_results[key] = value"
   ]
  },
  {
   "cell_type": "code",
   "execution_count": 20,
   "id": "0e9682b9",
   "metadata": {},
   "outputs": [
    {
     "data": {
      "text/plain": [
       "{'ISC_precision': 0.0,\n",
       " 'ISC_recall': 0.0,\n",
       " 'ISC_f1': 0.0,\n",
       " 'ISC_number': 0,\n",
       " 'LOC_precision': 0.3333333333333333,\n",
       " 'LOC_recall': 0.25,\n",
       " 'LOC_f1': 0.28571428571428575,\n",
       " 'LOC_number': 4,\n",
       " 'MISC_precision': 0.0,\n",
       " 'MISC_recall': 0.0,\n",
       " 'MISC_f1': 0.0,\n",
       " 'MISC_number': 20,\n",
       " 'ORG_precision': 0.0,\n",
       " 'ORG_recall': 0.0,\n",
       " 'ORG_f1': 0.0,\n",
       " 'ORG_number': 2,\n",
       " 'PER_precision': 0.5833333333333334,\n",
       " 'PER_recall': 0.4375,\n",
       " 'PER_f1': 0.5,\n",
       " 'PER_number': 16,\n",
       " 'overall_precision': 0.36363636363636365,\n",
       " 'overall_recall': 0.19047619047619047,\n",
       " 'overall_f1': 0.25,\n",
       " 'overall_accuracy': 0.8113695090439277}"
      ]
     },
     "execution_count": 20,
     "metadata": {},
     "output_type": "execute_result"
    }
   ],
   "source": [
    "final_results"
   ]
  }
 ],
 "metadata": {
  "kernelspec": {
   "display_name": "Python 3 (ipykernel)",
   "language": "python",
   "name": "python3"
  },
  "language_info": {
   "codemirror_mode": {
    "name": "ipython",
    "version": 3
   },
   "file_extension": ".py",
   "mimetype": "text/x-python",
   "name": "python",
   "nbconvert_exporter": "python",
   "pygments_lexer": "ipython3",
   "version": "3.12.2"
  }
 },
 "nbformat": 4,
 "nbformat_minor": 5
}
